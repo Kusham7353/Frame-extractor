{
  "nbformat": 4,
  "nbformat_minor": 0,
  "metadata": {
    "colab": {
      "provenance": [],
      "authorship_tag": "ABX9TyOIV95tigSV15eXsfnjG90H",
      "include_colab_link": true
    },
    "kernelspec": {
      "name": "python3",
      "display_name": "Python 3"
    },
    "language_info": {
      "name": "python"
    }
  },
  "cells": [
    {
      "cell_type": "markdown",
      "metadata": {
        "id": "view-in-github",
        "colab_type": "text"
      },
      "source": [
        "<a href=\"https://colab.research.google.com/github/Kusham7353/Frame-extractor/blob/main/Frame_Extractor.ipynb\" target=\"_parent\"><img src=\"https://colab.research.google.com/assets/colab-badge.svg\" alt=\"Open In Colab\"/></a>"
      ]
    },
    {
      "cell_type": "code",
      "execution_count": 1,
      "metadata": {
        "id": "c6uPZs88p6aA"
      },
      "outputs": [],
      "source": [
        "import cv2\n",
        "import os\n",
        "\n",
        "def extract_frames(video_path, output_folder):\n",
        "    # Open the video file\n",
        "    video_capture = cv2.VideoCapture(video_path)\n",
        "\n",
        "    # Create the output folder if it doesn't exist\n",
        "    if not os.path.exists(output_folder):\n",
        "        os.makedirs(output_folder)\n",
        "\n",
        "    # Initialize variables\n",
        "    frame_count = 0\n",
        "\n",
        "    while True:\n",
        "        # Capture frame-by-frame\n",
        "        ret, frame = video_capture.read()\n",
        "\n",
        "        if not ret:\n",
        "            break\n",
        "\n",
        "        # Save the frame with a unique name\n",
        "        frame_filename = f\"{output_folder}/frame_{frame_count}.jpg\"\n",
        "        cv2.imwrite(frame_filename, frame)\n",
        "\n",
        "        # Print progress\n",
        "        print(f\"Extracted frame {frame_count}\")\n",
        "\n",
        "        frame_count += 1\n",
        "\n",
        "    # Release the video capture object and close all windows\n",
        "    video_capture.release()\n",
        "    cv2.destroyAllWindows()\n",
        "\n",
        "# Example usage:\n",
        "video_path = '/content/04caa8d391c6fe005c20431974a093b3.gif'  # Replace with your video file path\n",
        "output_folder = 'output_frames'  # Output folder where frames will be saved\n",
        "\n",
        "extract_frames(video_path, output_folder)"
      ]
    }
  ]
}